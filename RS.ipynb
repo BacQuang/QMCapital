{
 "cells": [
  {
   "cell_type": "code",
   "execution_count": null,
   "id": "1f3ebe51",
   "metadata": {},
   "outputs": [],
   "source": [
    "# Imports\n",
    "import yfinance as yf\n",
    "import pandas as pd\n",
    "from pandas_datareader import data as pdr\n",
    "from yahoo_fin import stock_info as si\n",
    "import datetime\n",
    "import time"
   ]
  },
  {
   "cell_type": "code",
   "execution_count": 2,
   "id": "d092b613",
   "metadata": {},
   "outputs": [],
   "source": [
    "# Override yfinance API\n",
    "yf.pdr_override()\n",
    "import pandas as pd"
   ]
  },
  {
   "cell_type": "code",
   "execution_count": 3,
   "id": "4b848d17",
   "metadata": {},
   "outputs": [],
   "source": [
    "# Get tickers for all S&P 500 stocks and replace \".\" with \"-\" for compatibility with Yahoo Finance\n",
    "sp500_tickers = si.tickers_sp500()\n",
    "sp500_tickers = [ticker.replace(\".\", \"-\") for ticker in sp500_tickers[:20]]"
   ]
  },
  {
   "cell_type": "code",
   "execution_count": 4,
   "id": "d8a7fc94",
   "metadata": {},
   "outputs": [],
   "source": [
    "# Define S&P 500 index\n",
    "sp500_index = '^GSPC'"
   ]
  },
  {
   "cell_type": "code",
   "execution_count": 5,
   "id": "95453c63",
   "metadata": {},
   "outputs": [],
   "source": [
    "# Define date range for stock data\n",
    "start_date = datetime.datetime.now() - datetime.timedelta(days=365)\n",
    "end_date = datetime.date.today()\n"
   ]
  },
  {
   "cell_type": "code",
   "execution_count": 6,
   "id": "53639792",
   "metadata": {},
   "outputs": [],
   "source": [
    "# Create empty list to store relative returns for each stock\n",
    "relative_returns = []"
   ]
  },
  {
   "cell_type": "code",
   "execution_count": 7,
   "id": "8d95a17e",
   "metadata": {},
   "outputs": [
    {
     "name": "stdout",
     "output_type": "stream",
     "text": [
      "[*********************100%***********************]  1 of 1 completed\n"
     ]
    }
   ],
   "source": [
    "# Retrieve historical price data for the S&P 500 index\n",
    "sp500_df = pdr.get_data_yahoo(sp500_index, start_date, end_date)\n",
    "sp500_df['Percent Change'] = sp500_df['Adj Close'].pct_change()\n",
    "sp500_returns = sp500_df['Percent Change'].cumsum()\n",
    "sp500_return = sp500_returns.iloc[-1]"
   ]
  },
  {
   "cell_type": "code",
   "execution_count": 8,
   "id": "d6880c34",
   "metadata": {},
   "outputs": [
    {
     "data": {
      "text/plain": [
       "0.15500270375152225"
      ]
     },
     "execution_count": 8,
     "metadata": {},
     "output_type": "execute_result"
    }
   ],
   "source": [
    "sp500_return"
   ]
  },
  {
   "cell_type": "code",
   "execution_count": 1,
   "id": "fa65639d",
   "metadata": {},
   "outputs": [
    {
     "ename": "NameError",
     "evalue": "name 'sp500_tickers' is not defined",
     "output_type": "error",
     "traceback": [
      "\u001b[1;31m---------------------------------------------------------------------------\u001b[0m",
      "\u001b[1;31mNameError\u001b[0m                                 Traceback (most recent call last)",
      "Cell \u001b[1;32mIn[1], line 2\u001b[0m\n\u001b[0;32m      1\u001b[0m \u001b[39m# Iterate over all S&P 500 stocks to calculate their relative returns relative to the S&P 500\u001b[39;00m\n\u001b[1;32m----> 2\u001b[0m \u001b[39mfor\u001b[39;00m ticker \u001b[39min\u001b[39;00m sp500_tickers:\n\u001b[0;32m      3\u001b[0m     \u001b[39m# Download historical data as CSV for each stock to speed up the process\u001b[39;00m\n\u001b[0;32m      4\u001b[0m     stock_df \u001b[39m=\u001b[39m pdr\u001b[39m.\u001b[39mget_data_yahoo(ticker, start_date, end_date)\n\u001b[0;32m      5\u001b[0m     stock_df\u001b[39m.\u001b[39mto_csv(\u001b[39mf\u001b[39m\u001b[39m'\u001b[39m\u001b[39m{\u001b[39;00mticker\u001b[39m}\u001b[39;00m\u001b[39m.csv\u001b[39m\u001b[39m'\u001b[39m)\n",
      "\u001b[1;31mNameError\u001b[0m: name 'sp500_tickers' is not defined"
     ]
    }
   ],
   "source": [
    "# Iterate over all S&P 500 stocks to calculate their relative returns relative to the S&P 500\n",
    "for ticker in sp500_tickers:\n",
    "    # Download historical data as CSV for each stock to speed up the process\n",
    "    stock_df = pdr.get_data_yahoo(ticker, start_date, end_date)\n",
    "    stock_df.to_csv(f'{ticker}.csv')\n",
    "\n",
    "    # Calculate percent change column\n",
    "    stock_df['Percent Change'] = stock_df['Adj Close'].pct_change()\n",
    "\n",
    "    # Calculate the relative return with double weight for the most recent quarter\n",
    "    stock_returns = stock_df['Percent Change'].cumsum()\n",
    "    stock_return = (stock_returns.iloc[-1] * 2 + stock_returns.iloc[-63]) / 3  # Double weight for the most recent quarter\n",
    "\n",
    "    relative_return = round(stock_return / sp500_return, 2)\n",
    "    relative_returns.append(relative_return)\n",
    "\n",
    "    # Print relative return for each stock\n",
    "    print(f'Ticker: {ticker}; Relative Return against S&P 500: {relative_return}\\n')\n",
    "\n",
    "    # Pause for 1 second to avoid overloading the server with requests\n",
    "    time.sleep(1)"
   ]
  },
  {
   "cell_type": "code",
   "execution_count": 10,
   "id": "c90046ce",
   "metadata": {},
   "outputs": [],
   "source": [
    "rs_df = pd.DataFrame(list(zip(sp500_tickers, relative_returns)), columns=['Ticker', 'Relative Return'])\n",
    "rs_df['RS_Rating'] = rs_df[\"Relative Return\"].rank(pct=True) * 100"
   ]
  },
  {
   "cell_type": "code",
   "execution_count": 11,
   "id": "a38c7a30",
   "metadata": {},
   "outputs": [
    {
     "name": "stdout",
     "output_type": "stream",
     "text": [
      "   Ticker  Relative Return  RS_Rating\n",
      "0       A             0.54       45.0\n",
      "1     AAL             2.05       95.0\n",
      "2     AAP            -4.08        5.0\n",
      "3    AAPL             1.94       85.0\n",
      "4    ABBV            -0.23       20.0\n",
      "5     ABC             1.62       75.0\n",
      "6     ABT            -0.01       30.0\n",
      "7    ACGL             3.18      100.0\n",
      "8     ACN             0.67       50.0\n",
      "9    ADBE             1.72       80.0\n",
      "10    ADI             2.04       90.0\n",
      "11    ADM             0.20       35.0\n",
      "12    ADP             0.44       40.0\n",
      "13   ADSK             1.40       65.0\n",
      "14    AEE            -0.21       25.0\n",
      "15    AEP            -0.42       15.0\n",
      "16    AES             0.74       55.0\n",
      "17    AFL             1.51       70.0\n",
      "18    AIG             0.78       60.0\n",
      "19    AIZ            -1.74       10.0\n"
     ]
    }
   ],
   "source": [
    "# Print RS ratings for all stocks\n",
    "print(rs_df)\n"
   ]
  }
 ],
 "metadata": {
  "kernelspec": {
   "display_name": "Python 3 (ipykernel)",
   "language": "python",
   "name": "python3"
  },
  "language_info": {
   "codemirror_mode": {
    "name": "ipython",
    "version": 3
   },
   "file_extension": ".py",
   "mimetype": "text/x-python",
   "name": "python",
   "nbconvert_exporter": "python",
   "pygments_lexer": "ipython3",
   "version": "3.11.0"
  }
 },
 "nbformat": 4,
 "nbformat_minor": 5
}
